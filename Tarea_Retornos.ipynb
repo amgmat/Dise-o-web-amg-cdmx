{
  "nbformat": 4,
  "nbformat_minor": 0,
  "metadata": {
    "colab": {
      "name": "Tarea_Retornos.ipynb",
      "provenance": [],
      "authorship_tag": "ABX9TyMFhEeG4gFpj5bStMMfiCXK",
      "include_colab_link": true
    },
    "kernelspec": {
      "name": "python3",
      "display_name": "Python 3"
    }
  },
  "cells": [
    {
      "cell_type": "markdown",
      "metadata": {
        "id": "view-in-github",
        "colab_type": "text"
      },
      "source": [
        "<a href=\"https://colab.research.google.com/github/amgmat/Diseno-web-amg-cdmx/blob/master/Tarea_Retornos.ipynb\" target=\"_parent\"><img src=\"https://colab.research.google.com/assets/colab-badge.svg\" alt=\"Open In Colab\"/></a>"
      ]
    },
    {
      "cell_type": "code",
      "metadata": {
        "id": "5gIbPzrclOYm"
      },
      "source": [
        "import pandas as pd\r\n",
        "import numpy as np\r\n",
        "import matplotlib.pyplot as plt\r\n",
        "import statsmodels.graphics.tsaplots as sgt\r\n",
        "from statsmodels.tsa.arima_model import ARMA\r\n",
        "from scipy.stats.distributions import chi2\r\n",
        "import statsmodels.tsa.stattools as sts \r\n",
        "import seaborn as sns\r\n",
        "sns.set()"
      ],
      "execution_count": 2,
      "outputs": []
    },
    {
      "cell_type": "markdown",
      "metadata": {
        "id": "gF3ivrgllbV4"
      },
      "source": [
        "Importing the data and Pre-processing"
      ]
    },
    {
      "cell_type": "code",
      "metadata": {
        "id": "eSI2pQ_clVJh"
      },
      "source": [
        "raw_csv_data = pd.read_csv(\"https://raw.githubusercontent.com/ecabestadistica/curso-series-temporales/master/5.%20Modelos%20AR%20autorregresivos/Python/Index2018.csv\") \r\n",
        "df_comp=raw_csv_data.copy()\r\n",
        "df_comp.date = pd.to_datetime(df_comp.date, dayfirst = True)\r\n",
        "df_comp.set_index(\"date\", inplace=True)\r\n",
        "df_comp=df_comp.asfreq('b')\r\n",
        "df_comp=df_comp.fillna(method='ffill')"
      ],
      "execution_count": 3,
      "outputs": []
    },
    {
      "cell_type": "code",
      "metadata": {
        "id": "J2QEffZMmsq4"
      },
      "source": [
        ""
      ],
      "execution_count": null,
      "outputs": []
    }
  ]
}